{
 "cells": [
  {
   "cell_type": "markdown",
   "id": "2a88b9a0-9503-4fc6-a4da-47dc75cec7aa",
   "metadata": {},
   "source": [
    "# Numpy Tutorial"
   ]
  },
  {
   "cell_type": "code",
   "execution_count": 2,
   "id": "20d639c4-932c-42ac-bc02-bffc7f8ce721",
   "metadata": {},
   "outputs": [],
   "source": [
    "import numpy as np"
   ]
  },
  {
   "cell_type": "markdown",
   "id": "ed7c5679-2d37-422d-8338-1c8c17b2ab8d",
   "metadata": {},
   "source": [
    "### Creating arrays"
   ]
  },
  {
   "cell_type": "code",
   "execution_count": 3,
   "id": "aed01378-e0ae-448a-880d-c859538c1e0e",
   "metadata": {},
   "outputs": [
    {
     "name": "stdout",
     "output_type": "stream",
     "text": [
      "[1 3 5 7 9]\n"
     ]
    },
    {
     "data": {
      "text/plain": [
       "(1, 5)"
      ]
     },
     "execution_count": 3,
     "metadata": {},
     "output_type": "execute_result"
    }
   ],
   "source": [
    "# arange return evenly spaced values within a given interval.\n",
    "a = np.arange(1,10,2)\n",
    "print(a)\n",
    "a2 = a[np.newaxis, :]\n",
    "# a2 = a.reshape(1,-1)\n",
    "a2.shape"
   ]
  },
  {
   "cell_type": "code",
   "execution_count": 4,
   "id": "4c4e3b62-fac8-4b0c-b3ea-ba856fc100c5",
   "metadata": {},
   "outputs": [
    {
     "data": {
      "text/plain": [
       "array([  1.        ,   6.21052632,  11.42105263,  16.63157895,\n",
       "        21.84210526,  27.05263158,  32.26315789,  37.47368421,\n",
       "        42.68421053,  47.89473684,  53.10526316,  58.31578947,\n",
       "        63.52631579,  68.73684211,  73.94736842,  79.15789474,\n",
       "        84.36842105,  89.57894737,  94.78947368, 100.        ])"
      ]
     },
     "execution_count": 4,
     "metadata": {},
     "output_type": "execute_result"
    }
   ],
   "source": [
    "# linspace return evenly spaced numbers over a specified interval.\n",
    "a3 = np.linspace(1,100,20)\n",
    "a3"
   ]
  },
  {
   "cell_type": "code",
   "execution_count": 5,
   "id": "fccf44ec-1278-4308-9c2a-bf08cbeb2eec",
   "metadata": {},
   "outputs": [
    {
     "data": {
      "text/plain": [
       "array([[5.08354661e-310, 0.00000000e+000],\n",
       "       [5.08295700e-310, 5.08295690e-310]])"
      ]
     },
     "execution_count": 5,
     "metadata": {},
     "output_type": "execute_result"
    }
   ],
   "source": [
    "# empy array assigns garbage values\n",
    "b1 = np.empty((2,2))\n",
    "b1"
   ]
  },
  {
   "cell_type": "code",
   "execution_count": 6,
   "id": "bd8202f1-088b-46a7-8f6d-467c2d8bd93a",
   "metadata": {},
   "outputs": [
    {
     "name": "stdout",
     "output_type": "stream",
     "text": [
      "[0. 0. 0. 0. 0. 0. 0. 0. 0. 0.]\n"
     ]
    }
   ],
   "source": [
    "# array filled with zero\n",
    "Z = np.zeros(10)\n",
    "print(Z)"
   ]
  },
  {
   "cell_type": "code",
   "execution_count": 7,
   "id": "293333a7-db29-444d-9194-d5627c442175",
   "metadata": {},
   "outputs": [
    {
     "name": "stdout",
     "output_type": "stream",
     "text": [
      "800 bytes\n"
     ]
    }
   ],
   "source": [
    "# find the memory size of any array\n",
    "Z1 = np.zeros((10,10))\n",
    "print(\"%d bytes\" % (Z1.size * Z1.itemsize))"
   ]
  },
  {
   "cell_type": "code",
   "execution_count": 8,
   "id": "186fe6b0-8172-4400-9dbf-9f16f819c443",
   "metadata": {},
   "outputs": [
    {
     "name": "stdout",
     "output_type": "stream",
     "text": [
      "400 bytes\n"
     ]
    }
   ],
   "source": [
    "# array of ones\n",
    "Z2 = np.ones((10,10),dtype='int32')\n",
    "print(\"%d bytes\" % (Z2.size * Z2.itemsize))"
   ]
  },
  {
   "cell_type": "code",
   "execution_count": 9,
   "id": "03027519-4efc-4cd6-b54e-e610fc6c8ac3",
   "metadata": {},
   "outputs": [
    {
     "name": "stdout",
     "output_type": "stream",
     "text": [
      "[49 48 47 46 45 44 43 42 41 40 39 38 37 36 35 34 33 32 31 30 29 28 27 26\n",
      " 25 24 23 22 21 20 19 18 17 16 15 14 13 12 11 10  9  8  7  6  5  4  3  2\n",
      "  1  0]\n"
     ]
    }
   ],
   "source": [
    "# reversing an array using slicing\n",
    "Z = np.arange(50)\n",
    "Z = Z[::-1]\n",
    "print(Z)"
   ]
  },
  {
   "cell_type": "code",
   "execution_count": null,
   "id": "00c66e69-6c88-4ec2-9ba4-e4b0448b4fa6",
   "metadata": {},
   "outputs": [],
   "source": []
  },
  {
   "cell_type": "code",
   "execution_count": 10,
   "id": "6aba8064-ecc4-4f3b-afff-63b804bbae54",
   "metadata": {},
   "outputs": [
    {
     "name": "stdout",
     "output_type": "stream",
     "text": [
      "[[0 1 0 1 0 1 0 1]\n",
      " [1 0 1 0 1 0 1 0]\n",
      " [0 1 0 1 0 1 0 1]\n",
      " [1 0 1 0 1 0 1 0]\n",
      " [0 1 0 1 0 1 0 1]\n",
      " [1 0 1 0 1 0 1 0]\n",
      " [0 1 0 1 0 1 0 1]\n",
      " [1 0 1 0 1 0 1 0]]\n"
     ]
    }
   ],
   "source": [
    "# chessboard using tile method\n",
    "Z = np.tile( np.array([[0,1],[1,0]]), (4,4))\n",
    "print(Z)"
   ]
  },
  {
   "cell_type": "markdown",
   "id": "b9852dea-ac6a-4319-b286-9b4160277389",
   "metadata": {},
   "source": [
    "### New axis"
   ]
  },
  {
   "cell_type": "code",
   "execution_count": 11,
   "id": "bf25f54a-9621-46d8-b52b-45be9cd3f449",
   "metadata": {},
   "outputs": [
    {
     "data": {
      "text/plain": [
       "(1, 1, 1, 5)"
      ]
     },
     "execution_count": 11,
     "metadata": {},
     "output_type": "execute_result"
    }
   ],
   "source": [
    "a2[np.newaxis,np.newaxis].shape"
   ]
  },
  {
   "cell_type": "markdown",
   "id": "5eb78142-d96f-4501-8c2e-ff54bd4414bc",
   "metadata": {},
   "source": [
    "### Argsort\n",
    "argsort returns the indices that would sort an array along a specified axis."
   ]
  },
  {
   "cell_type": "code",
   "execution_count": 12,
   "id": "6a4741de-7c38-40da-9ee9-37aca9ddf678",
   "metadata": {},
   "outputs": [
    {
     "name": "stdout",
     "output_type": "stream",
     "text": [
      "[1 3 0 2 4]\n",
      "[[1 0]\n",
      " [1 0]]\n"
     ]
    }
   ],
   "source": [
    "arr = np.array([3, 1, 4, 1, 5])\n",
    "sorted_indices = arr.argsort()  # Returns indices for sorting along axis 0 (default)\n",
    "print(sorted_indices)  # Output: [1 0 2 3 4]\n",
    "\n",
    "# Sort along axis 1 (assuming a 2D array)\n",
    "arr2d = np.array([[3, 1], [5, 4]])\n",
    "sorted_indices2d = arr2d.argsort(axis=1)\n",
    "print(sorted_indices2d)  # Output: [[1 0], [1 0]]\n"
   ]
  },
  {
   "cell_type": "markdown",
   "id": "fc2d838a-2aee-4b7d-ba0d-ad7beba39819",
   "metadata": {},
   "source": [
    "### Lexsort\n",
    "lexsort sorts an array of arrays along multiple columns using lexicographic order (dictionary order)."
   ]
  },
  {
   "cell_type": "code",
   "execution_count": 13,
   "id": "ad66920f-6024-4bed-8d6d-311a4ac22d20",
   "metadata": {},
   "outputs": [
    {
     "name": "stdout",
     "output_type": "stream",
     "text": [
      "[1 0 2]\n"
     ]
    }
   ],
   "source": [
    "# Create an array of arrays with mixed data types\n",
    "data = [('Alice', 25, 1.8), ('Bob', 30, 1.7), ('Charlie', 28, 1.9)]\n",
    "names, ages, heights = zip(*data)  # Unpack data into separate arrays\n",
    "\n",
    "# Sort by name (first column), then by height (third column)\n",
    "sorted_indices = np.lexsort([names, heights])\n",
    "print(sorted_indices)  # Output: [1 2 0] (corresponding to 'Bob', 'Charlie', 'Alice')"
   ]
  },
  {
   "cell_type": "markdown",
   "id": "709b84ad-9321-41ba-baac-984970260e27",
   "metadata": {},
   "source": [
    "### Searchsorted"
   ]
  },
  {
   "cell_type": "code",
   "execution_count": 14,
   "id": "f074ffac-5a0d-42d5-8dcf-a2ae74cc9858",
   "metadata": {},
   "outputs": [
    {
     "name": "stdout",
     "output_type": "stream",
     "text": [
      "[1 2 3]\n"
     ]
    }
   ],
   "source": [
    "# searchsorted finds the indices where elements in a sorted input array should be inserted to maintain\n",
    "# order if they were included in the input array.\n",
    "\n",
    "arr = np.array([1, 3, 5, 7])\n",
    "search_vals = [2, 4, 6, ]\n",
    "\n",
    "sorted_indices = arr.searchsorted(search_vals)\n",
    "print(sorted_indices)  # Output: [1 2 3 4] (insertion points for 2, 4, 6, 8)"
   ]
  },
  {
   "cell_type": "markdown",
   "id": "18468f1e-e56a-4fca-8d17-3379b05b0b6e",
   "metadata": {},
   "source": [
    "### partition\n",
    "partition rearranges an array such that the element at the kth position is in its sorted position, with all elements smaller than it before it and all larger or equal elements after it. The order within the partitions is not guaranteed."
   ]
  },
  {
   "cell_type": "code",
   "execution_count": 15,
   "id": "5d82babd-d7f6-4023-852a-edb3f772cab1",
   "metadata": {},
   "outputs": [
    {
     "name": "stdout",
     "output_type": "stream",
     "text": [
      "[2 1 3 4 5 9 8]\n"
     ]
    }
   ],
   "source": [
    "arr = np.array([8, 4, 2, 1, 5, 9, 3])\n",
    "kth_element = 4  # Partition around the 5th element (index 3)\n",
    "\n",
    "partitioned_arr = np.partition(arr,4)  # Returns a copy with the 5th element in its sorted position\n",
    "print(partitioned_arr)  # Output may vary, but it will be a permutation of the original array\n",
    "                         # with 5 in its sorted position (e.g., [2, 1, 3, 5, 4, 8, 9])\n"
   ]
  },
  {
   "cell_type": "code",
   "execution_count": 16,
   "id": "e1d624cc-5d4c-4c9e-b8dd-d9718873b939",
   "metadata": {},
   "outputs": [
    {
     "data": {
      "text/plain": [
       "array([2, 1, 3, 6, 7])"
      ]
     },
     "execution_count": 16,
     "metadata": {},
     "output_type": "execute_result"
    }
   ],
   "source": [
    "x = np.array([1,2,3,6,7])\n",
    "np.partition(x,4)"
   ]
  },
  {
   "cell_type": "markdown",
   "id": "686dfa38-5a1d-462a-a604-59597a13e893",
   "metadata": {},
   "source": [
    "### Concat"
   ]
  },
  {
   "cell_type": "code",
   "execution_count": 17,
   "id": "073e0f2a-9492-43b9-9a8e-da67f7bef940",
   "metadata": {},
   "outputs": [
    {
     "data": {
      "text/plain": [
       "array([1, 2, 3, 4, 5, 6, 7, 8])"
      ]
     },
     "execution_count": 17,
     "metadata": {},
     "output_type": "execute_result"
    }
   ],
   "source": [
    "a = np.array([1, 2, 3, 4])\n",
    "b = np.array([5, 6, 7, 8])\n",
    "\n",
    "np.concatenate([a,b])\n",
    "# np.vstack([a,b])"
   ]
  },
  {
   "cell_type": "markdown",
   "id": "4551e156-667c-4a7e-8b84-585c84b5c548",
   "metadata": {},
   "source": [
    "### Indexing and Slicing"
   ]
  },
  {
   "cell_type": "code",
   "execution_count": 18,
   "id": "d82b173b-f560-458e-b59a-6fb552becdfd",
   "metadata": {},
   "outputs": [
    {
     "data": {
      "text/plain": [
       "array([2, 4, 6])"
      ]
     },
     "execution_count": 18,
     "metadata": {},
     "output_type": "execute_result"
    }
   ],
   "source": [
    "a = np.array([11,2,3,4,5,6,7])\n",
    "a[a%2==0]"
   ]
  },
  {
   "cell_type": "code",
   "execution_count": 19,
   "id": "559cceb5-77cd-46bf-8c66-6ae080430301",
   "metadata": {},
   "outputs": [
    {
     "data": {
      "text/plain": [
       "(array([0, 1]),)"
      ]
     },
     "execution_count": 19,
     "metadata": {},
     "output_type": "execute_result"
    }
   ],
   "source": [
    "np.nonzero((a<3) | (a>10))"
   ]
  },
  {
   "cell_type": "markdown",
   "id": "8d961d7f-5a87-4297-ba2f-3bebab05a9e4",
   "metadata": {},
   "source": [
    "### Array View"
   ]
  },
  {
   "cell_type": "code",
   "execution_count": 20,
   "id": "4d9529b3-8b7a-4200-b372-1e035561689f",
   "metadata": {},
   "outputs": [],
   "source": [
    "a = np.array([[1, 2, 3, 4], [5, 6, 7, 8], [9, 10, 11, 12]])"
   ]
  },
  {
   "cell_type": "code",
   "execution_count": 21,
   "id": "4f25aec0-eba2-474f-ad73-1ff109d624ad",
   "metadata": {},
   "outputs": [
    {
     "data": {
      "text/plain": [
       "((2, 4),\n",
       " array([[ 5,  6,  7,  8],\n",
       "        [ 9, 10, 11, 12]]))"
      ]
     },
     "execution_count": 21,
     "metadata": {},
     "output_type": "execute_result"
    }
   ],
   "source": [
    "b1 = a[1:]\n",
    "b1.shape,b1"
   ]
  },
  {
   "cell_type": "code",
   "execution_count": 22,
   "id": "5e4c8440-63df-4526-bcb3-f158b9e84de7",
   "metadata": {},
   "outputs": [
    {
     "data": {
      "text/plain": [
       "array([[100,   6,   7,   8],\n",
       "       [  9,  10,  11,  12]])"
      ]
     },
     "execution_count": 22,
     "metadata": {},
     "output_type": "execute_result"
    }
   ],
   "source": [
    "b1[0][0] = 100\n",
    "b1"
   ]
  },
  {
   "cell_type": "code",
   "execution_count": 23,
   "id": "368efbb4-33ed-4b6b-8093-c245817534db",
   "metadata": {},
   "outputs": [
    {
     "data": {
      "text/plain": [
       "array([[  1,   2,   3,   4],\n",
       "       [100,   6,   7,   8],\n",
       "       [  9,  10,  11,  12]])"
      ]
     },
     "execution_count": 23,
     "metadata": {},
     "output_type": "execute_result"
    }
   ],
   "source": [
    "a"
   ]
  },
  {
   "cell_type": "markdown",
   "id": "4f4174f8-59cd-4af3-94d2-be31574440be",
   "metadata": {},
   "source": [
    "### Reshape, Transpose, Reverse"
   ]
  },
  {
   "cell_type": "code",
   "execution_count": 24,
   "id": "3e4a4265-ff3f-4635-92df-e52cac4ca61e",
   "metadata": {},
   "outputs": [],
   "source": [
    "a = np.random.randint(1,100,(4,3,2,1))\n",
    "# a"
   ]
  },
  {
   "cell_type": "code",
   "execution_count": 25,
   "id": "d1710629-c251-4b4c-b97b-85b957cd43f6",
   "metadata": {},
   "outputs": [
    {
     "data": {
      "text/plain": [
       "(1, 2, 3, 4)"
      ]
     },
     "execution_count": 25,
     "metadata": {},
     "output_type": "execute_result"
    }
   ],
   "source": [
    "a.T.shape"
   ]
  },
  {
   "cell_type": "code",
   "execution_count": 26,
   "id": "e3b71323-8e70-4cb8-82fa-1c80a3fa3ac4",
   "metadata": {},
   "outputs": [
    {
     "data": {
      "text/plain": [
       "((3, 4),\n",
       " array([[3, 3, 8, 8],\n",
       "        [9, 3, 2, 4],\n",
       "        [7, 9, 2, 7]]))"
      ]
     },
     "execution_count": 26,
     "metadata": {},
     "output_type": "execute_result"
    }
   ],
   "source": [
    "b = np.random.randint(1,10,(3,4))\n",
    "b.shape,b"
   ]
  },
  {
   "cell_type": "code",
   "execution_count": 27,
   "id": "c438473f-0a98-46b7-837d-4b8381469251",
   "metadata": {},
   "outputs": [
    {
     "data": {
      "text/plain": [
       "array([[8, 8, 3, 3],\n",
       "       [4, 2, 3, 9],\n",
       "       [7, 2, 9, 7]])"
      ]
     },
     "execution_count": 27,
     "metadata": {},
     "output_type": "execute_result"
    }
   ],
   "source": [
    "np.flip(b,axis=1)"
   ]
  },
  {
   "cell_type": "markdown",
   "id": "40e1514c-dfc5-4fee-acfa-c2147071f968",
   "metadata": {},
   "source": [
    "# Any, All"
   ]
  },
  {
   "cell_type": "code",
   "execution_count": 28,
   "id": "4655e657-1d0a-4ce5-801d-c559ea6965d3",
   "metadata": {},
   "outputs": [
    {
     "data": {
      "text/plain": [
       "(True, False)"
      ]
     },
     "execution_count": 28,
     "metadata": {},
     "output_type": "execute_result"
    }
   ],
   "source": [
    "a = np.array([43,53,1,21])\n",
    "(a>40).any(), (a>40).all()"
   ]
  },
  {
   "cell_type": "code",
   "execution_count": 29,
   "id": "8ae0235f-b1a1-4697-a193-8bcd5c4095cc",
   "metadata": {},
   "outputs": [
    {
     "data": {
      "text/plain": [
       "(True, True)"
      ]
     },
     "execution_count": 29,
     "metadata": {},
     "output_type": "execute_result"
    }
   ],
   "source": [
    "np.array([True,False]).any(),np.array([True,True]).all()"
   ]
  },
  {
   "cell_type": "markdown",
   "id": "ba4146cf-6f84-406a-ab8f-de18bb99912e",
   "metadata": {},
   "source": [
    "### Random Numbers"
   ]
  },
  {
   "cell_type": "code",
   "execution_count": 30,
   "id": "1dd06092-ac69-47d3-8801-7b92b6774038",
   "metadata": {},
   "outputs": [],
   "source": [
    "import matplotlib.pyplot as plt"
   ]
  },
  {
   "cell_type": "code",
   "execution_count": 31,
   "id": "a31b48af-4575-4bd5-98f0-a6678dd998e8",
   "metadata": {},
   "outputs": [],
   "source": [
    "# np.random.normal?"
   ]
  },
  {
   "cell_type": "code",
   "execution_count": 32,
   "id": "d6d42ebb-3033-4ba4-8d06-a030ec4507ac",
   "metadata": {},
   "outputs": [
    {
     "data": {
      "image/png": "[encoded data removed]",
      "text/plain": [
       "<Figure size 640x480 with 1 Axes>"
      ]
     },
     "metadata": {},
     "output_type": "display_data"
    }
   ],
   "source": [
    "r1 = np.random.randn(99999,)\n",
    "plt.hist(r1)\n",
    "plt.show()"
   ]
  },
  {
   "cell_type": "code",
   "execution_count": 33,
   "id": "154c0e6f-704c-496b-93a2-7d9fb329667b",
   "metadata": {},
   "outputs": [
    {
     "data": {
      "image/png": "[encoded data removed]",
      "text/plain": [
       "<Figure size 640x480 with 1 Axes>"
      ]
     },
     "metadata": {},
     "output_type": "display_data"
    }
   ],
   "source": [
    "r2 = np.random.normal(loc=5,size=(1000,))\n",
    "plt.hist(r2)\n",
    "plt.show()"
   ]
  },
  {
   "cell_type": "code",
   "execution_count": 34,
   "id": "b9024fb3-fd9c-477b-8c59-234a2037dec6",
   "metadata": {},
   "outputs": [],
   "source": [
    "# np.random.uniform?"
   ]
  },
  {
   "cell_type": "code",
   "execution_count": 35,
   "id": "6047c85e-b330-4a19-8285-099db9ac1a03",
   "metadata": {},
   "outputs": [
    {
     "data": {
      "image/png": "[encoded data removed]",
      "text/plain": [
       "<Figure size 640x480 with 1 Axes>"
      ]
     },
     "metadata": {},
     "output_type": "display_data"
    }
   ],
   "source": [
    "r2 = np.random.uniform(1,100,(100000))\n",
    "plt.hist(r2)\n",
    "plt.show()"
   ]
  },
  {
   "cell_type": "markdown",
   "id": "179ebda9-1b7a-442b-994c-901ea6549fc0",
   "metadata": {},
   "source": [
    "### Multiplication, dot/cross products"
   ]
  },
  {
   "cell_type": "markdown",
   "id": "640f2a1f-131c-4dda-aaa3-3f306f45e8ce",
   "metadata": {},
   "source": [
    "* Cross product is specific to 3D vectors.\n",
    "* Dot product can be used for inner product (1D arrays) or matrix multiplication (2D arrays).\n",
    "* \\* Element-wise multiplication operates on corresponding elements of arrays.\n",
    "* @ is a shorthand for matrix multiplication in Python 3.5 and above."
   ]
  },
  {
   "cell_type": "code",
   "execution_count": 36,
   "id": "644aa612-021d-4eba-8b20-2a585f7b3275",
   "metadata": {},
   "outputs": [],
   "source": [
    "x = np.array([[1,2,3], [4,5,6], [7, 8, 9]])\n",
    "y = np.array([[7, 8, 9], [4,5,6], [1,2,3]])"
   ]
  },
  {
   "cell_type": "code",
   "execution_count": 37,
   "id": "2a81e122-6ea1-4eae-869d-2de40a2c65a3",
   "metadata": {},
   "outputs": [
    {
     "data": {
      "text/plain": [
       "array([[ 18,  24,  30],\n",
       "       [ 54,  69,  84],\n",
       "       [ 90, 114, 138]])"
      ]
     },
     "execution_count": 37,
     "metadata": {},
     "output_type": "execute_result"
    }
   ],
   "source": [
    "# dot product\n",
    "np.dot(x,y)"
   ]
  },
  {
   "cell_type": "code",
   "execution_count": 38,
   "id": "2307a1ac-bf93-4a33-9fb5-80f3a7513c05",
   "metadata": {},
   "outputs": [
    {
     "data": {
      "text/plain": [
       "array([[ -6,  12,  -6],\n",
       "       [  0,   0,   0],\n",
       "       [  6, -12,   6]])"
      ]
     },
     "execution_count": 38,
     "metadata": {},
     "output_type": "execute_result"
    }
   ],
   "source": [
    "# cross product\n",
    "np.cross(x, y)"
   ]
  },
  {
   "cell_type": "code",
   "execution_count": 39,
   "id": "8dbedcba-46fe-4a48-8466-852d307b9a1d",
   "metadata": {},
   "outputs": [
    {
     "data": {
      "text/plain": [
       "array([[ 7, 16, 27],\n",
       "       [16, 25, 36],\n",
       "       [ 7, 16, 27]])"
      ]
     },
     "execution_count": 39,
     "metadata": {},
     "output_type": "execute_result"
    }
   ],
   "source": [
    "# element wise multiplication\n",
    "x*y"
   ]
  },
  {
   "cell_type": "code",
   "execution_count": 40,
   "id": "c9cfc761-276d-4849-a86a-d525cbe4af7c",
   "metadata": {},
   "outputs": [
    {
     "data": {
      "text/plain": [
       "array([[ 18,  24,  30],\n",
       "       [ 54,  69,  84],\n",
       "       [ 90, 114, 138]])"
      ]
     },
     "execution_count": 40,
     "metadata": {},
     "output_type": "execute_result"
    }
   ],
   "source": [
    "# shorthand for matrix multiplication\n",
    "x@y"
   ]
  },
  {
   "cell_type": "code",
   "execution_count": 41,
   "id": "54faf572-1430-4d01-ad42-6c9440720cb2",
   "metadata": {},
   "outputs": [
    {
     "data": {
      "text/plain": [
       "array([[ 7, 16, 27],\n",
       "       [16, 25, 36],\n",
       "       [ 7, 16, 27]])"
      ]
     },
     "execution_count": 41,
     "metadata": {},
     "output_type": "execute_result"
    }
   ],
   "source": [
    "np.multiply(x,y)"
   ]
  },
  {
   "cell_type": "markdown",
   "id": "b664e330-0c26-46d5-89ec-5480de26075e",
   "metadata": {},
   "source": [
    "### Linalg module"
   ]
  },
  {
   "cell_type": "code",
   "execution_count": 42,
   "id": "e3990c26-5c96-42f2-8fd1-8b7f97f8a01d",
   "metadata": {},
   "outputs": [
    {
     "name": "stdout",
     "output_type": "stream",
     "text": [
      "Rank of A: 3\n",
      "\n",
      "Trace of A: 11\n",
      "\n",
      "Determinant of A: -306.0\n",
      "\n",
      "Inverse of A:\n",
      " [[ 0.17647059 -0.00326797 -0.02287582]\n",
      " [ 0.05882353 -0.13071895  0.08496732]\n",
      " [-0.11764706  0.1503268   0.05228758]]\n",
      "\n",
      "Matrix A raised to power 3:\n",
      " [[336 162 228]\n",
      " [406 162 469]\n",
      " [698 702 905]]\n"
     ]
    }
   ],
   "source": [
    "A = np.array([[6, 1, 1],\n",
    "              [4, -2, 5],\n",
    "              [2, 8, 7]])\n",
    " \n",
    "# Rank of a matrix\n",
    "print(\"Rank of A:\", np.linalg.matrix_rank(A))\n",
    " \n",
    "# Trace of matrix A\n",
    "print(\"\\nTrace of A:\", np.trace(A))\n",
    " \n",
    "# Determinant of a matrix\n",
    "print(\"\\nDeterminant of A:\", np.linalg.det(A))\n",
    " \n",
    "# Inverse of matrix A\n",
    "print(\"\\nInverse of A:\\n\", np.linalg.inv(A))\n",
    " \n",
    "print(\"\\nMatrix A raised to power 3:\\n\",\n",
    "           np.linalg.matrix_power(A, 3))"
   ]
  },
  {
   "cell_type": "code",
   "execution_count": 45,
   "id": "8d58df3d-8313-4442-a31f-3db74b1b36f5",
   "metadata": {},
   "outputs": [
    {
     "name": "stdout",
     "output_type": "stream",
     "text": [
      "Eigen value:  [11.24862343  5.09285054 -5.34147398]\n",
      "Eigen vector: \n",
      " [[ 0.24511338  0.75669314  0.02645665]\n",
      " [ 0.40622202 -0.03352363 -0.84078293]\n",
      " [ 0.88028581 -0.65291014  0.54072554]]\n"
     ]
    }
   ],
   "source": [
    "eigen_value,eigen_vector = np.linalg.eig(A)\n",
    "print('Eigen value: ',eigen_value)\n",
    "print('Eigen vector: \\n',eigen_vector)"
   ]
  },
  {
   "cell_type": "code",
   "execution_count": null,
   "id": "f410c6a7-89a2-445f-9d16-79ecc4a08dcd",
   "metadata": {},
   "outputs": [],
   "source": []
  }
 ],
 "metadata": {
  "kernelspec": {
   "display_name": "Python 3 (ipykernel)",
   "language": "python",
   "name": "python3"
  },
  "language_info": {
   "codemirror_mode": {
    "name": "ipython",
    "version": 3
   },
   "file_extension": ".py",
   "mimetype": "text/x-python",
   "name": "python",
   "nbconvert_exporter": "python",
   "pygments_lexer": "ipython3",
   "version": "3.12.3"
  }
 },
 "nbformat": 4,
 "nbformat_minor": 5
}
